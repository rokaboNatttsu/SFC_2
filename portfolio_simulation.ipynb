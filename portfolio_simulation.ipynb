{
 "cells": [
  {
   "cell_type": "code",
   "execution_count": 1,
   "metadata": {},
   "outputs": [],
   "source": [
    "using StatsPlots"
   ]
  },
  {
   "cell_type": "code",
   "execution_count": null,
   "metadata": {},
   "outputs": [],
   "source": [
    "#   適応的パラメータ\n",
    "ri, rb, rf = zeros(Ni, 5), zeros(Nb, 7), zeros(Nf, 7)\n",
    "for i = 1:Ni\n",
    "    t = rand(5)\n",
    "    ri[i, :] = t/sum(t)\n",
    "end\n",
    "for i = 1:Nb\n",
    "    t = rand(7)\n",
    "    rb[i, :] = t/sum(t)\n",
    "end\n",
    "for i = 1:Nf\n",
    "    t = rand(7)\n",
    "    rf[i, :] = t/sum(t)\n",
    "end"
   ]
  },
  {
   "cell_type": "code",
   "execution_count": 2,
   "metadata": {},
   "outputs": [
    {
     "data": {
      "text/plain": [
       "([0.0 0.0 … 0.0 0.0; 0.0 0.0 … 0.0 0.0; … ; 0.0 0.0 … 0.0 0.0; 0.0 0.0 … 0.0 0.0], [0.0 0.0 … 0.0 0.0; 0.0 0.0 … 0.0 0.0; … ; 0.0 0.0 … 0.0 0.0; 0.0 0.0 … 0.0 0.0], [0.0 0.0 … 0.0 0.0; 0.0 0.0 … 0.0 0.0; … ; 0.0 0.0 … 0.0 0.0; 0.0 0.0 … 0.0 0.0], [0.0 0.0 … 0.0 0.0; 0.0 0.0 … 0.0 0.0; … ; 0.0 0.0 … 0.0 0.0; 0.0 0.0 … 0.0 0.0])"
      ]
     },
     "metadata": {},
     "output_type": "display_data"
    }
   ],
   "source": [
    "T = 100\n",
    "Ni, Nc, Nk, Nb, Nf = 100, 100, 100, 5, 5\n",
    "N = sum([Ni, Nc, Nk, Nb, Nf])\n",
    "py, pz = 1.0, 1.0\n",
    "pec, pek, i, ibc, ibk = 0.0, 0.0, 0.0, 0.0, 0.0\n",
    "pece, peke, ie, ibce, ibke = 0.0, 0.0, 0.0, 0.0, 0.0\n",
    "\n",
    "Mi, Mc, Mk, Mf, M = zeros(Ni, T), zeros(Nc, T), zeros(Nk, T), zeros(Nf, T), zeros(Nb, T)\n",
    "L, Lf = zeros(Nb, T), zeros(Nf, T)\n",
    "Hb, Hf, H = zeros(Nb, T), zeros(Nf, T), zeros(T)\n",
    "GBi, GBb, GBf, GB = zeros(Ni, T), zeros(Nb, T), zeros(Nf, T), zeros(T)\n",
    "Eci, Ec, Ecb, Ecf = zeros(Ni, T), zeros(Nc, T), zeros(Nb, T), zeros(Nf, T)\n",
    "Eki, Ek, Ekb, Ekf = zeros(Ni, T), zeros(Nk, T), zeros(Nb, T), zeros(Nf, T)\n",
    "Bci, Bc, Bcb, Bcf = zeros(Ni, T), zeros(Nc, T), zeros(Nb, T), zeros(Nf, T)\n",
    "Bki, Bk, Bkb, Bkf = zeros(Ni, T), zeros(Nk, T), zeros(Nb, T), zeros(Nf, T)\n",
    "#   ここで初期値を代入\n",
    "\n",
    "Vi = Mi + pec.*Eci + pek.*Eki + Bci + Bki\n",
    "Vb = L + Hb + GBb + pec.*Ecb + pek.*Ekb + Bcb + Bkb\n",
    "Vf = Mf + Hf + GBf + pec.*Ecf + pek.*Ekf + Bcf + Bkf\n",
    "Vie, Vbe, Vfe = zeros(Ni, T), zeros(Nb, T), zeros(Nf, T)\n",
    "\n",
    "MiT, McT, MkT, MfT, MT = zeros(Ni, T), zeros(Nc, T), zeros(Nk, T), zeros(Nf, T), zeros(Nb, T)\n",
    "LT, LfT = zeros(Nb, T), zeros(Nf, T)\n",
    "HbT, HfT, HT = zeros(Nb, T), zeros(Nf, T), zeros(T)\n",
    "GBiT, GBbT, GBfT, GBT = zeros(Ni, T), zeros(Nb, T), zeros(Nf, T), zeros(T)\n",
    "EciT, EcT, EcbT, EcfT = zeros(Ni, T), zeros(Nc, T), zeros(Nb, T), zeros(Nf, T)\n",
    "EkiT, EkT, EkbT, EkfT = zeros(Ni, T), zeros(Nk, T), zeros(Nb, T), zeros(Nf, T)\n",
    "BciT, BcT, BcbT, BcfT = zeros(Ni, T), zeros(Nc, T), zeros(Nb, T), zeros(Nf, T)\n",
    "BkiT, BkT, BkbT, BkfT = zeros(Ni, T), zeros(Nk, T), zeros(Nb, T), zeros(Nf, T)\n",
    "\n",
    "ΔMi, ΔMc, ΔMk, ΔMf, ΔM = zeros(Ni, T), zeros(Nc, T), zeros(Nk, T), zeros(Nf, T), zeros(Nb, T)\n",
    "ΔL, ΔLf = zeros(Nb, T), zeros(Nf, T)\n",
    "ΔHb, ΔHf, ΔH = zeros(Nb, T), zeros(Nf, T), zeros(T)\n",
    "ΔGBi, ΔGBb, ΔGBf, ΔGB = zeros(Ni, T), zeros(Nb, T), zeros(Nf, T), zeros(T)\n",
    "ΔEci, ΔEc, ΔEcb, ΔEcf = zeros(Ni, T), zeros(Nc, T), zeros(Nb, T), zeros(Nf, T)\n",
    "ΔEki, ΔEk, ΔEkb, ΔEkf = zeros(Ni, T), zeros(Nk, T), zeros(Nb, T), zeros(Nf, T)\n",
    "ΔBci, ΔBc, ΔBcb, ΔBcf = zeros(Ni, T), zeros(Nc, T), zeros(Nb, T), zeros(Nf, T)\n",
    "ΔBki, ΔBk, ΔBkb, ΔBkf = zeros(Ni, T), zeros(Nk, T), zeros(Nb, T), zeros(Nf, T)"
   ]
  },
  {
   "cell_type": "code",
   "execution_count": null,
   "metadata": {},
   "outputs": [],
   "source": [
    "struct Private end\n",
    "struct Investor <: Private end\n",
    "struct Bank <: Private end\n",
    "struct Finance <: Private end\n",
    "struct Government end\n",
    "struct System end\n",
    "private = Private()\n",
    "investor = Investor()\n",
    "bank = Bank()\n",
    "finance = Finance()\n",
    "government = Government()"
   ]
  },
  {
   "cell_type": "code",
   "execution_count": null,
   "metadata": {},
   "outputs": [],
   "source": [
    "function cal_portfolio_target(agent_type::Investor)\n",
    "    MiT[:, t] = ri[:, 1] * Vie[:, t]\n",
    "    EciT[:, t] = ri[:, 2] * Vie[:, t] ./ pece\n",
    "    EkiT[:, t] = ri[:, 3] * Vie[:, t] ./ peke\n",
    "    BciT[:, t] = ri[:, 4] * Vie[:, t]\n",
    "    BkiT[:, t] = ri[:, 5] * Vie[:, t]\n",
    "end\n",
    "function cal_portfolio_target(agent_type::Bank)\n",
    "    LT[:, t] = rb[:, 1] * Vbe[:, t]\n",
    "    HbT[:, t] = rb[:, 2] * Vbe[:, t]\n",
    "    GBbT[:, t] = rb[:, 3] * Vbe[:, t]\n",
    "    EcbT[:, t] = rb[:, 4] * Vbe[:, t] ./ pece\n",
    "    EkbT[:, t] = rb[:, 5] * Vbe[:, t] ./ peke\n",
    "    BcbT[:, t] = rb[:, 6] * Vbe[:, t]\n",
    "    BkbT[:, t] = rb[:, 7] * Vbe[:, t]\n",
    "end\n",
    "function cal_portfolio_target(agent_type::Finance)\n",
    "    Mf[:, t] = rf[:, 1] * Vfe[:, t]\n",
    "    HfT[:, t] = rf[:, 2] * Vfe[:, t]\n",
    "    GBfT[:, t] = rf[:, 3] * Vfe[:, t]\n",
    "    EcfT[:, t] = rf[:, 4] * Vfe[:, t] ./ pece\n",
    "    EkfT[:, t] = rf[:, 5] * Vfe[:, t] ./ peke\n",
    "    BcfT[:, t] = rf[:, 6] * Vfe[:, t]\n",
    "    BkfT[:, t] = rf[:, 7] * Vfe[:, t]\n",
    "end\n",
    "function cal_portfolio_target(agent_type::System)\n",
    "    cal_portfolio_target(investor)\n",
    "    cal_portfolio_target(bank)\n",
    "    cal_portfolio_target(finance)\n",
    "end"
   ]
  },
  {
   "cell_type": "markdown",
   "metadata": {},
   "source": [
    "一期の操作の流れ\n",
    "- ポートフォリオ目標水準の計算\n",
    "- 売買オファーを出す\n",
    "- 売買オファーのマッチング\n",
    "- 売買遂行と価格の更新\n",
    "- 受動的な変数を会計恒等式で計算\n",
    "\n",
    "多重ディスパッチを使って、系全体の操作の名前とそれぞれの部門の操作の名前をそろえる。コードがわかりやすくなるかどうか実験"
   ]
  },
  {
   "cell_type": "code",
   "execution_count": null,
   "metadata": {},
   "outputs": [],
   "source": []
  }
 ],
 "metadata": {
  "kernelspec": {
   "display_name": "Julia 1.10.0",
   "language": "julia",
   "name": "julia-1.10"
  },
  "language_info": {
   "file_extension": ".jl",
   "mimetype": "application/julia",
   "name": "julia",
   "version": "1.10.0"
  }
 },
 "nbformat": 4,
 "nbformat_minor": 2
}
