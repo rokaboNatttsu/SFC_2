{
 "cells": [
  {
   "cell_type": "code",
   "execution_count": 1,
   "metadata": {},
   "outputs": [],
   "source": [
    "using StatsPlots"
   ]
  },
  {
   "cell_type": "code",
   "execution_count": null,
   "metadata": {},
   "outputs": [],
   "source": [
    "#   適応的パラメータ\n",
    "ri, rb, rf = zeros(Ni, 5), zeros(Nb, 7), zeros(Nf, 7)\n",
    "for i = 1:Ni\n",
    "    t = rand(5)\n",
    "    ri[i, :] = t/sum(t)\n",
    "end\n",
    "for i = 1:Nb\n",
    "    t = rand(7)\n",
    "    rb[i, :] = t/sum(t)\n",
    "end\n",
    "for i = 1:Nf\n",
    "    t = rand(7)\n",
    "    rf[i, :] = t/sum(t)\n",
    "end"
   ]
  },
  {
   "cell_type": "code",
   "execution_count": null,
   "metadata": {},
   "outputs": [],
   "source": [
    "#   転置の書き方参考用\n",
    "M = permutedims(arr, (2,1,3))"
   ]
  },
  {
   "cell_type": "code",
   "execution_count": 2,
   "metadata": {},
   "outputs": [
    {
     "data": {
      "text/plain": [
       "([0.0 0.0 … 0.0 0.0; 0.0 0.0 … 0.0 0.0; … ; 0.0 0.0 … 0.0 0.0; 0.0 0.0 … 0.0 0.0], [0.0 0.0 … 0.0 0.0; 0.0 0.0 … 0.0 0.0; … ; 0.0 0.0 … 0.0 0.0; 0.0 0.0 … 0.0 0.0], [0.0 0.0 … 0.0 0.0; 0.0 0.0 … 0.0 0.0; … ; 0.0 0.0 … 0.0 0.0; 0.0 0.0 … 0.0 0.0], [0.0 0.0 … 0.0 0.0; 0.0 0.0 … 0.0 0.0; … ; 0.0 0.0 … 0.0 0.0; 0.0 0.0 … 0.0 0.0])"
      ]
     },
     "metadata": {},
     "output_type": "display_data"
    }
   ],
   "source": [
    "T = 100\n",
    "Ni, Nc, Nk, Nb, Nf = 20, 100, 100, 5, 5\n",
    "N = sum([Ni, Nc, Nk, Nb, Nf])\n",
    "py, pz = fill(1.0, T), fill(1.0, T)\n",
    "pec, pek, i, ibc, ibk = zeros(Nc, T), zeros(Nk, T), zeros(Nb, T), zeros(Nc, T), zeros(Nk, T)\n",
    "pece, peke, ie, ibce, ibke = zeros(Nc, T), zeros(Nk, T), zeros(Nb, T), zeros(Nc, T), zeros(Nk, T)\n",
    "\n",
    "#   これ以降の行の書き換え作業中, c,kを含めて変数を加えつつ、次元の書き換え\n",
    "#   エージェント同士の貸借関係を変数ごとに２次元行列であらわす方法に方針転換するため\n",
    "Mi, Mc, Mk, Mf, M = zeros(Ni, Nb, T), zeros(Nc, Nb, T), zeros(Nk, Nb, T), zeros(Nf, Nb, T), zeros(Ni+Nc+Nk+Nf, Nb, T)\n",
    "L, Lc, Lk, Lf = zeros(Nb, Nc+Nk+Nf, T), zeros(Nb, Nc, T), zeros(Nb, Nk, T), zeros(Nb, Nc+Nk+Nf, T)\n",
    "Hb, Hf, H = zeros(Nb, T), zeros(Nf, T), zeros(Nb+Nf, T)\n",
    "GBi, GBb, GBf, GB = zeros(Ni, T), zeros(Nb, T), zeros(Nf, T), zeros(T)\n",
    "Eci, Ec, Ecb, Ecf = zeros(Ni, Nc, T), zeros(Nc, Ni+Nb+Nf, T), zeros(Nb, Nc, T), zeros(Nf, Nc, T)\n",
    "Eki, Ek, Ekb, Ekf = zeros(Ni, Nk, T), zeros(Nk, Ni+Nb+Nf, T), zeros(Nb, Nk, T), zeros(Nf, Nk, T)\n",
    "Bci, Bc, Bcb, Bcf = zeros(Ni, Nc, T), zeros(Nc, Ni+Nb+Nf, T), zeros(Nb, Nc, T), zeros(Nf, Nc, T)\n",
    "Bki, Bk, Bkb, Bkf = zeros(Ni, Nk, T), zeros(Nk, Ni+Nb+Nf, T), zeros(Nb, Nk, T), zeros(Nf, Nk, T)\n",
    "Vi, Vb, Vf, Vie, Vbe, Vfe = zeros(Ni, T), zeros(Nb, T), zeros(Nf, T), eros(Ni, T), zeros(Nb, T), zeros(Nf, T)\n",
    "MiT, McT, MkT, MfT, MT = zeros(Ni, Nb, T), zeros(Nc, Nb, T), zeros(Nk, Nb, T), zeros(Nf, Nb, T), zeros(Ni+Nc+Nk+Nf, Nb, T)\n",
    "LT, LfT = zeros(Nb, Nf, T), zeros(Nf, Nb, T)\n",
    "HbT, HfT, HT = zeros(Nb, T), zeros(Nf, T), zeros(Nb+Nf, T)\n",
    "GBiT, GBbT, GBfT, GBT = zeros(Ni, T), zeros(Nb, T), zeros(Nf, T), zeros(T)\n",
    "EciT, EcT, EcbT, EcfT = zeros(Ni, T), zeros(Nc, T), zeros(Nb, T), zeros(Nf, T)\n",
    "EkiT, EkT, EkbT, EkfT = zeros(Ni, T), zeros(Nk, T), zeros(Nb, T), zeros(Nf, T)\n",
    "BciT, BcT, BcbT, BcfT = zeros(Ni, T), zeros(Nc, T), zeros(Nb, T), zeros(Nf, T)\n",
    "BkiT, BkT, BkbT, BkfT = zeros(Ni, T), zeros(Nk, T), zeros(Nb, T), zeros(Nf, T)\n",
    "#   ここで初期値を代入\n",
    "\n",
    "ΔMi, ΔMc, ΔMk, ΔMf, ΔM = zeros(Ni, Nb, T), zeros(Nc, Nb, T), zeros(Nk, Nb, T), zeros(Nf, Nb, T), zeros(Nb, Ni+Nc+Nk+Nf, T)\n",
    "ΔLi, ΔLc, ΔLk, ΔL, ΔLf = zeros(Nb, Ni, T), zeros(Nb, Nc, T), zeros(Nb, Nk, T), zeros(Nb, Ni+Nc+Nk+Nf, T), zeros(Nb, Nf, T)\n",
    "ΔHb, ΔHf, ΔH = zeros(Nb, T), zeros(Nf, T), zeros(T)\n",
    "ΔGBi, ΔGBb, ΔGBf, ΔGB = zeros(Ni, T), zeros(Nb, T), zeros(Nf, T), zeros(T)\n",
    "ΔEci, ΔEc, ΔEcb, ΔEcf = zeros(Ni, Nc, T), zeros(Ni+Nb+Nf, Nc, T), zeros(Nb, Nc, T), zeros(Nf, Nc, T)\n",
    "ΔEki, ΔEk, ΔEkb, ΔEkf = zeros(Ni, Nk, T), zeros(Ni+Nb+Nf, Nk, T), zeros(Nb, Nk, T), zeros(Nf, Nk, T)\n",
    "ΔBci, ΔBc, ΔBcb, ΔBcf = zeros(Ni, Nc, T), zeros(Ni+Nb+Nf, Nc, T), zeros(Nb, Nc, T), zeros(Nf, Nc, T)\n",
    "ΔBki, ΔBk, ΔBkb, ΔBkf = zeros(Ni, Nk, T), zeros(Ni+Nb+Nf, Nk, T), zeros(Nb, Nk, T), zeros(Nf, Nk, T)"
   ]
  },
  {
   "cell_type": "code",
   "execution_count": null,
   "metadata": {},
   "outputs": [],
   "source": [
    "struct Private end\n",
    "struct Investor <: Private end\n",
    "struct Bank <: Private end\n",
    "struct Finance <: Private end\n",
    "struct FirmC <: Private end\n",
    "struct FirmK <: Private end\n",
    "struct Government end\n",
    "struct System end\n",
    "private = Private()\n",
    "investor = Investor()\n",
    "bank = Bank()\n",
    "finance = Finance()\n",
    "firmC = FirmC()\n",
    "firmK = FirmK()\n",
    "government = Government()"
   ]
  },
  {
   "cell_type": "code",
   "execution_count": null,
   "metadata": {},
   "outputs": [],
   "source": [
    "function btw(X, Y, Z)\n",
    "    if X > Z\n",
    "        return nothing\n",
    "    end\n",
    "    return max(X, min(Y, Z))\n",
    "end"
   ]
  },
  {
   "cell_type": "code",
   "execution_count": null,
   "metadata": {},
   "outputs": [],
   "source": [
    "function cal_portfolio_target(agent_type::Investor)\n",
    "    MiT[:, t] = ri[:, 1] * Vie[:, t]\n",
    "    EciT[:, t] = ri[:, 2] * Vie[:, t] ./ pece[:,t]\n",
    "    EkiT[:, t] = ri[:, 3] * Vie[:, t] ./ peke[:,t]\n",
    "    BciT[:, t] = ri[:, 4] * Vie[:, t]\n",
    "    BkiT[:, t] = ri[:, 5] * Vie[:, t]\n",
    "end\n",
    "function cal_portfolio_target(agent_type::Bank)\n",
    "    LT[:, t] = rb[:, 1] * Vbe[:, t]\n",
    "    HbT[:, t] = rb[:, 2] * Vbe[:, t]\n",
    "    GBbT[:, t] = rb[:, 3] * Vbe[:, t]\n",
    "    EcbT[:, t] = rb[:, 4] * Vbe[:, t] ./ pece[:,t]\n",
    "    EkbT[:, t] = rb[:, 5] * Vbe[:, t] ./ peke[:,t]\n",
    "    BcbT[:, t] = rb[:, 6] * Vbe[:, t]\n",
    "    BkbT[:, t] = rb[:, 7] * Vbe[:, t]\n",
    "end\n",
    "function cal_portfolio_target(agent_type::Finance)\n",
    "    Mf[:, t] = rf[:, 1] * Vfe[:, t]\n",
    "    HfT[:, t] = rf[:, 2] * Vfe[:, t]\n",
    "    GBfT[:, t] = rf[:, 3] * Vfe[:, t]\n",
    "    EcfT[:, t] = rf[:, 4] * Vfe[:, t] ./ pece[:,t]\n",
    "    EkfT[:, t] = rf[:, 5] * Vfe[:, t] ./ peke[:,t]\n",
    "    BcfT[:, t] = rf[:, 6] * Vfe[:, t]\n",
    "    BkfT[:, t] = rf[:, 7] * Vfe[:, t]\n",
    "end\n",
    "function cal_portfolio_target(agent_type::System)\n",
    "    cal_portfolio_target(investor)\n",
    "    cal_portfolio_target(bank)\n",
    "    cal_portfolio_target(finance)\n",
    "end"
   ]
  },
  {
   "cell_type": "markdown",
   "metadata": {},
   "source": [
    "一期の操作の流れ\n",
    "\n",
    "1. ポートフォリオ目標水準の計算\n",
    "2. 売買オファーを出す\n",
    "3. 売買オファーのマッチング\n",
    "4. 売買遂行と価格の更新\n",
    "5. 受動的な変数を会計恒等式で計算\n",
    "\n",
    "多重ディスパッチを使って、系全体の操作の名前とそれぞれの部門の操作の名前をそろえる。コードがわかりやすくなるかどうか実験"
   ]
  },
  {
   "cell_type": "code",
   "execution_count": null,
   "metadata": {},
   "outputs": [],
   "source": [
    "function set_offer_prices(AVCTc, AMVc, AVCTk, AMVk)\n",
    "    for i = 1:Ni\n",
    "        for j = 1:Nc\n",
    "            if AVCTc[i,j]/AMVc[j] < 1.0\n",
    "                pect[i,j] = pec[j,t-1]*AVCTc[i,j]/AMVc[j]\n",
    "            else\n",
    "                pect[i,j] = pec[:,t-1] .* 0.5 .* (1.0 .+ AVCTc[i,:]/AMVc)\n",
    "            end\n",
    "        end\n",
    "        for j = 1:Nk\n",
    "            if AVCTk[i,j]/AMVk[j] < 1.0\n",
    "                pekt[i,j] = pek[j,t-1]*AVCTk[i,j]/AMVk[j]\n",
    "            else\n",
    "                pekt[i,j] = pek[:,t-1] .* 0.5 .* (1.0 .+ AVCTk[i,:]/AMVk)\n",
    "            end\n",
    "        end\n",
    "    end\n",
    "    return pect, pekt\n",
    "end\n",
    "function offer_trade(agent_type::Investor)\n",
    "    #   前期末の時価総額の取得\n",
    "    AMVc, AMVk = pc[:,tm1].*Ec[:,tm1], pk[:,tm1].*Ek[:,tm1]\n",
    "    #   主観的な評価額を計算\n",
    "    AVCTc, AVCTk = zeros(Ni, Nc), zeros(Ni, Nc)\n",
    "    for i = 1:Ni\n",
    "        AVCTc[i,:] = rAMVc[i,1] .* NLce[:,t] + rAMVc[i,2] .* Πc[:,t] + rAMVc[i,3] * p[t] .* (sum(C, dims=1)[1,:,t] + sum(Cg, dims=1)[1,:,t])\n",
    "        AVCTk[i,:] = rAMVk[i,4] .* NLke[:,t] + rAMVk[i,5] .* Πk[:,t] + rAMVk[i,6] * pk[t] .* (sum(I, dims=1)[1,:,t] + sum(Igk, dims=1)[1,:,t])\n",
    "        AVCTc[i,:] .*= sum(AMVc)/sum(AVCTc[i,:])\n",
    "        AVCTk[i,:] .*= sum(AMVk)/sum(AVCTk[i,:])\n",
    "    end\n",
    "    #   ポートフォリオ配分目標の決定\n",
    "    cal_portfolio_target(agent_type)\n",
    "    #   株の注文の価格を決める\n",
    "    pect, pekt = set_offer_prices(AVCTc, AMVc, AVCTk, AMVk)\n",
    "    #   株の注文の量を決める\n",
    "        #   保有中の株の主観的な評価額が前期末の時価総額よりも低い場合、売り注文\n",
    "    firmC_sell_offer, stock_budget = [], deepcopy(EciT[:, t]*pece[:, t])\n",
    "    for i = 1:Ni\n",
    "        for j = 1:Nc\n",
    "            if Eci[i, j, t-1] > 0.0 & pect[i,j] < pec[j,t-1]\n",
    "                push!(firmC_sell_offer, (j, Eci[i, j, t-1], ))\n",
    "            else if Eci[i, j, t-1] > 0.0\n",
    "                stock_budget[j] -= btw(0.0, Eci[i, j, t-1]*pece[j, t], stock_budget[j])\n",
    "            end\n",
    "        end\n",
    "    end\n",
    "        #   ポートフォリオ配分目標を上回る間は売り注文を追加\n",
    "        #   主観的な評価額が前期末の時価総額よりも高い場合、ポートフォリオ配分目標を下回る間は、時価総額に比例する確率で買い注文\n",
    "end"
   ]
  },
  {
   "cell_type": "code",
   "execution_count": null,
   "metadata": {},
   "outputs": [],
   "source": []
  }
 ],
 "metadata": {
  "kernelspec": {
   "display_name": "Julia 1.10.0",
   "language": "julia",
   "name": "julia-1.10"
  },
  "language_info": {
   "file_extension": ".jl",
   "mimetype": "application/julia",
   "name": "julia",
   "version": "1.10.0"
  }
 },
 "nbformat": 4,
 "nbformat_minor": 2
}
